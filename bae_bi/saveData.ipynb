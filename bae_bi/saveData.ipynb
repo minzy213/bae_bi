{
 "cells": [
  {
   "cell_type": "code",
   "execution_count": 1,
   "metadata": {},
   "outputs": [],
   "source": [
    "import os, sys\n",
    "# PWD = os.getenv('PWD')\n",
    "PWD = os.path.abspath('.')\n",
    "\n",
    "PROJ_MISSING_MSG = \"\"\"Set an enviroment variable:\\n\n",
    "`DJANGO_PROJECT=your_project_name`\\n\n",
    "or call:\\n\n",
    "`init_django(your_project_name)`\n",
    "\"\"\"\n",
    "\n",
    "def init_django(project_name=None):\n",
    "    os.chdir(PWD)\n",
    "    project_name = project_name or os.environ.get('DJANGO_PROJECT') or None\n",
    "    if project_name == None:\n",
    "        raise Exception(PROJ_MISSING_MSG)\n",
    "    sys.path.insert(0, os.getenv('PWD'))\n",
    "    os.environ.setdefault('DJANGO_SETTINGS_MODULE', f'{project_name}.settings')\n",
    "    os.environ[\"DJANGO_ALLOW_ASYNC_UNSAFE\"] = \"true\"\n",
    "    import django\n",
    "    django.setup()"
   ]
  },
  {
   "cell_type": "code",
   "execution_count": 2,
   "metadata": {},
   "outputs": [],
   "source": [
    "init_django('bae_bi') #project name"
   ]
  },
  {
   "cell_type": "code",
   "execution_count": 3,
   "metadata": {},
   "outputs": [],
   "source": [
    "from board.models import Category, Store, Delivery_info, Menu, Promotion, User, Review\n",
    "import json"
   ]
  },
  {
   "cell_type": "code",
   "execution_count": 5,
   "metadata": {},
   "outputs": [
    {
     "data": {
      "text/plain": [
       "[<Category: Category object (None)>,\n",
       " <Category: Category object (None)>,\n",
       " <Category: Category object (None)>,\n",
       " <Category: Category object (None)>,\n",
       " <Category: Category object (None)>,\n",
       " <Category: Category object (None)>]"
      ]
     },
     "execution_count": 5,
     "metadata": {},
     "output_type": "execute_result"
    }
   ],
   "source": [
    "# Category 저장, img path 추가 필요\n",
    "\n",
    "categories = []\n",
    "categories.append(Category(name=\"치킨\", url = \"chicken\"))\n",
    "categories.append(Category(name=\"중국집\", url = \"chinese\"))\n",
    "categories.append(Category(name=\"일식\", url = \"japanese\"))\n",
    "categories.append(Category(name=\"족발\", url = \"jokbal\"))\n",
    "categories.append(Category(name=\"한식\", url = \"korean\"))\n",
    "categories.append(Category(name=\"피자\", url = \"pizza\"))\n",
    "Category.objects.bulk_create(categories)"
   ]
  },
  {
   "cell_type": "code",
   "execution_count": null,
   "metadata": {},
   "outputs": [],
   "source": [
    "\n",
    "def saveDB(filename, name):\n",
    "    promotions = []\n",
    "    reviews = []\n",
    "    delivery_infos = []\n",
    "    with open(f'../data/{filename}_infos.json', 'r', encoding='UTF8') as f:\n",
    "        info = json.load(f)\n",
    "\n",
    "    t_ct = Category.objects.filter(name=name)[0]\n",
    "    idx = 0\n",
    "    for rest in info['restaurants']:\n",
    "        # store 추가\n",
    "        t_store = Store.objects.create(name=rest['name'], address='', avg_rate=rest['avg_rate'], category=t_ct, \n",
    "                            thumbnail_path=rest['logo'])\n",
    "        \n",
    "        # 요기요 배달정보 추가\n",
    "        promo = rest['restaurant_promotions']['promotion_on_condition']\n",
    "        if len(rest['restaurant_promotions']['additional_dc']) > 0:\n",
    "            promo = rest['restaurant_promotions']['additional_dc']\n",
    "        delivery_infos.append(Delivery_info(store=t_store, service='요기요', time=rest['delivery_time'], \n",
    "                                            fee=rest['delivery_tip'], prom=promo, available = rest['delivery_available_price'], \n",
    "                                            prom_cond=rest['restaurant_promotions']['on_condition']))        \n",
    "        \n",
    "        # menu 추가\n",
    "        for name in rest['menu'].keys():\n",
    "            t_menu = Menu.objects.create(store=t_store, name=name, price=rest['menu'][name]['price'],\n",
    "                            info=rest['menu'][name]['description'], thumbnail_path=rest['menu'][name]['image'], \n",
    "                            is_soldout=rest['menu'][name]['out_of_stock'])\n",
    "            # 메뉴 할인정보 추가\n",
    "            if rest['menu'][name]['price_dc'] > 0:\n",
    "                promotions.append(Promotion(menu=t_menu, service='요기요', discount=rest['menu'][name]['price_dc']))\n",
    "            \n",
    "        for review in rest['reviews_info']:\n",
    "            us_name = review['review_id'][:2]\n",
    "            t_user = User.objects.filter(name=us_name)\n",
    "            # 유저 추가\n",
    "            \n",
    "            if len(t_user) == 0:\n",
    "                t_user = User.objects.create(name=us_name)\n",
    "            else:\n",
    "                t_user = t_user[0]\n",
    "            \n",
    "            # 리뷰 추가\n",
    "            rv_img = ''\n",
    "            for img in review['img']:\n",
    "                rv_img = rv_img + '|' + img\n",
    "            reviews.append(Review(store=t_store, content=review['review'], user=t_user, rate = review['rate'],\n",
    "                                image_path = rv_img, created_at = review['uploaded'], menu = review['order'], service = str(idx)))\n",
    "            idx = (idx + 1) % 3\n",
    "    # Promotion.objects.bulk_create(promotions)\n",
    "    # Review.objects.bulk_create(reviews)\n",
    "    # Delivery_info.objects.bulk_create(delivery_infos)\n",
    "    \n",
    "saveDB('chicken', '치킨')\n",
    "saveDB('chinese', '중국집')\n",
    "saveDB('japanese', '일식')\n",
    "saveDB('jokbal', '족발')\n",
    "saveDB('korean', '한식')\n",
    "saveDB('pizza', '피자')\n"
   ]
  },
  {
   "cell_type": "code",
   "execution_count": 9,
   "metadata": {},
   "outputs": [],
   "source": [
    "def saveOthers(filepath):\n",
    "    with open(f'../data/{filepath}.json', 'r', encoding='UTF8') as f:\n",
    "        info = json.load(f)\n",
    "    \n",
    "    delivery_infos = []\n",
    "\n",
    "    for res in info['restaurants']:\n",
    "        store = Store.objects.filter(name=res['name'])\n",
    "        if len(store) == 0:\n",
    "            print(f'there is no store named {res[\"name\"]}')\n",
    "            continue\n",
    "        \n",
    "        store = store[0]\n",
    "        for serv in res['service']:\n",
    "            fee_list = ''\n",
    "            for fee in serv['delivery_tip_list']:\n",
    "                fee_list += fee['condition'] + ': ' + str(fee['delivery_tip_on_condition']) + '|'\n",
    "            prom_list = ''\n",
    "            prom_cond = ''\n",
    "            for prom in serv['promotions']:\n",
    "                prom_list += str(prom['dc']) + '|'\n",
    "                prom_cond += prom['on_condition'] + '|'\n",
    "            prom_list += serv['additional_dc']\n",
    "            delivery_infos.append(Delivery_info(store=store, service=serv['name'], time=serv['delivery_time'], \n",
    "                                        fee=serv['delivery_tip'], fee_list = fee_list, prom=prom_list, \n",
    "                                        prom_cond=prom_cond, available = serv['delivery_available_price']))     \n",
    "\n",
    "    Delivery_info.objects.bulk_create(delivery_infos)\n",
    "\n",
    "saveOthers('chicken_baemin_coupang')"
   ]
  },
  {
   "cell_type": "code",
   "execution_count": null,
   "metadata": {},
   "outputs": [],
   "source": []
  }
 ],
 "metadata": {
  "kernelspec": {
   "display_name": "mzp",
   "language": "python",
   "name": "mzpark"
  },
  "language_info": {
   "codemirror_mode": {
    "name": "ipython",
    "version": 3
   },
   "file_extension": ".py",
   "mimetype": "text/x-python",
   "name": "python",
   "nbconvert_exporter": "python",
   "pygments_lexer": "ipython3",
   "version": "3.10.12"
  }
 },
 "nbformat": 4,
 "nbformat_minor": 2
}
