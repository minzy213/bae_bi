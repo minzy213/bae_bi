{
 "cells": [
  {
   "cell_type": "code",
   "execution_count": 1,
   "metadata": {},
   "outputs": [],
   "source": [
    "import os, sys\n",
    "# PWD = os.getenv('PWD')\n",
    "PWD = os.path.abspath('.')\n",
    "\n",
    "PROJ_MISSING_MSG = \"\"\"Set an enviroment variable:\\n\n",
    "`DJANGO_PROJECT=your_project_name`\\n\n",
    "or call:\\n\n",
    "`init_django(your_project_name)`\n",
    "\"\"\"\n",
    "\n",
    "def init_django(project_name=None):\n",
    "    os.chdir(PWD)\n",
    "    project_name = project_name or os.environ.get('DJANGO_PROJECT') or None\n",
    "    if project_name == None:\n",
    "        raise Exception(PROJ_MISSING_MSG)\n",
    "    sys.path.insert(0, os.getenv('PWD'))\n",
    "    os.environ.setdefault('DJANGO_SETTINGS_MODULE', f'{project_name}.settings')\n",
    "    os.environ[\"DJANGO_ALLOW_ASYNC_UNSAFE\"] = \"true\"\n",
    "    import django\n",
    "    django.setup()"
   ]
  },
  {
   "cell_type": "code",
   "execution_count": 2,
   "metadata": {},
   "outputs": [],
   "source": [
    "init_django('bae_bi') #project name"
   ]
  },
  {
   "cell_type": "code",
   "execution_count": 3,
   "metadata": {},
   "outputs": [],
   "source": [
    "from board.models import Category, Store, Delivery_info, Menu, Promotion, User, Review\n",
    "import json"
   ]
  },
  {
   "cell_type": "code",
   "execution_count": null,
   "metadata": {},
   "outputs": [],
   "source": [
    "# Category 저장, img path 추가 필요\n",
    "\n",
    "# categories = []\n",
    "# categories.append(Category(name=\"치킨\", url = \"chicken\"))\n",
    "# categories.append(Category(name=\"중국집\", url = \"chinese\"))\n",
    "# categories.append(Category(name=\"일식\", url = \"japanese\"))\n",
    "# categories.append(Category(name=\"족발\", url = \"jokbal\"))\n",
    "# categories.append(Category(name=\"한식\", url = \"korean\"))\n",
    "# categories.append(Category(name=\"피자\", url = \"pizza\"))\n",
    "# Category.objects.bulk_create(categories)"
   ]
  },
  {
   "cell_type": "code",
   "execution_count": 11,
   "metadata": {},
   "outputs": [
    {
     "ename": "IndexError",
     "evalue": "list index out of range",
     "output_type": "error",
     "traceback": [
      "\u001b[1;31m---------------------------------------------------------------------------\u001b[0m",
      "\u001b[1;31mIndexError\u001b[0m                                Traceback (most recent call last)",
      "\u001b[1;32mc:\\Code\\bae_bi\\bae_bi\\saveData.ipynb Cell 5\u001b[0m line \u001b[0;36m4\n\u001b[0;32m     <a href='vscode-notebook-cell:/c%3A/Code/bae_bi/bae_bi/saveData.ipynb#W4sZmlsZQ%3D%3D?line=42'>43</a>\u001b[0m     users\u001b[39m.\u001b[39mappend(t_user)\n\u001b[0;32m     <a href='vscode-notebook-cell:/c%3A/Code/bae_bi/bae_bi/saveData.ipynb#W4sZmlsZQ%3D%3D?line=43'>44</a>\u001b[0m \u001b[39melse\u001b[39;00m:\n\u001b[1;32m---> <a href='vscode-notebook-cell:/c%3A/Code/bae_bi/bae_bi/saveData.ipynb#W4sZmlsZQ%3D%3D?line=44'>45</a>\u001b[0m     t_user \u001b[39m=\u001b[39m User\u001b[39m.\u001b[39mobjects\u001b[39m.\u001b[39mfilter(name\u001b[39m=\u001b[39mus_name)[\u001b[39m0\u001b[39m]\n\u001b[0;32m     <a href='vscode-notebook-cell:/c%3A/Code/bae_bi/bae_bi/saveData.ipynb#W4sZmlsZQ%3D%3D?line=46'>47</a>\u001b[0m \u001b[39m# 리뷰 추가\u001b[39;00m\n\u001b[0;32m     <a href='vscode-notebook-cell:/c%3A/Code/bae_bi/bae_bi/saveData.ipynb#W4sZmlsZQ%3D%3D?line=47'>48</a>\u001b[0m rv_img \u001b[39m=\u001b[39m \u001b[39m'\u001b[39m\u001b[39m'\u001b[39m\n",
      "File \u001b[1;32mc:\\Users\\User\\anaconda3\\Lib\\site-packages\\django\\db\\models\\query.py:450\u001b[0m, in \u001b[0;36mQuerySet.__getitem__\u001b[1;34m(self, k)\u001b[0m\n\u001b[0;32m    448\u001b[0m qs\u001b[39m.\u001b[39mquery\u001b[39m.\u001b[39mset_limits(k, k \u001b[39m+\u001b[39m \u001b[39m1\u001b[39m)\n\u001b[0;32m    449\u001b[0m qs\u001b[39m.\u001b[39m_fetch_all()\n\u001b[1;32m--> 450\u001b[0m \u001b[39mreturn\u001b[39;00m qs\u001b[39m.\u001b[39m_result_cache[\u001b[39m0\u001b[39m]\n",
      "\u001b[1;31mIndexError\u001b[0m: list index out of range"
     ]
    }
   ],
   "source": [
    "stores = []\n",
    "menus = []\n",
    "promotions = []\n",
    "users = []\n",
    "reviews = []\n",
    "delivery_infos = []\n",
    "\n",
    "li_user = []\n",
    "with open(r'../data/chicken_infos.json', 'r') as f:\n",
    "    info = json.load(f)\n",
    "\n",
    "t_ct = Category.objects.filter(name=\"치킨\")[0]\n",
    "t_store = None\n",
    "t_menu = None\n",
    "for rest in info['restaurants']:\n",
    "    # store 추가\n",
    "    t_store = Store(name=rest['name'], address='', avg_rate=rest['avg_rate'], category=t_ct, \n",
    "                        thumbnail_path=rest['logo'])\n",
    "    stores.append(t_store)    \n",
    "    \n",
    "    # 요기요 배달정보 추가\n",
    "    delivery_infos.append(Delivery_info(store=t_store, service='요기요', time=rest['delivery_time'], \n",
    "                                        fee=rest['delivery_tip'], prom=rest['restaurant_promotions']['promotion_on_condition'], \n",
    "                                        prom_cond=rest['restaurant_promotions']['on_condition'], \n",
    "                                        add_dc=rest['restaurant_promotions']['additional_dc']))        \n",
    "    \n",
    "    # menu 추가\n",
    "    for name in rest['menu'].keys():\n",
    "        t_menu = Menu(store=t_store, name=name, price=rest['menu'][name]['price'],\n",
    "                          info=rest['menu'][name]['description'], thumbnail_path=rest['menu'][name]['image'], \n",
    "                          is_soldout=rest['menu'][name]['out_of_stock'])\n",
    "        menus.append(t_menu)\n",
    "        # 메뉴 할인정보 추가\n",
    "        promotions.append(Promotion(menu=t_menu, service='요기요', discount=rest['menu'][name]['price_dc']))\n",
    "        \n",
    "    for review in rest['reviews_info']:\n",
    "        us_name = review['review_id'][:2]\n",
    "        t_user = None\n",
    "        # 유저 추가\n",
    "        if us_name not in li_user:\n",
    "            li_user.append(us_name)\n",
    "            t_user = User(name=us_name)\n",
    "            users.append(t_user)\n",
    "        else:\n",
    "            t_user = User.objects.filter(name=us_name)[0]\n",
    "        \n",
    "        # 리뷰 추가\n",
    "        rv_img = ''\n",
    "        for img in review['img']:\n",
    "            rv_img = rv_img + '|'\n",
    "        reviews.append(Review(store=t_store, content=review['review'], user=t_user, rate = review['rate'],\n",
    "                              image_path = rv_img, created_at = review['uploaded'], menu = review['order']))\n",
    "        \n",
    "    "
   ]
  },
  {
   "cell_type": "code",
   "execution_count": null,
   "metadata": {},
   "outputs": [],
   "source": [
    "\n",
    "print(stores)\n",
    "print(menus)\n",
    "print(promotions)\n",
    "print(users)\n",
    "print(reviews)\n",
    "print(delivery_infos)"
   ]
  },
  {
   "cell_type": "code",
   "execution_count": 12,
   "metadata": {},
   "outputs": [],
   "source": [
    "menu = {\n",
    "    'store' : 'BHC', \n",
    "    'dil_time':'배민: 40분 | 요기요: 50분',\n",
    "    'menus':\n",
    "        [{'name':'뿌링클', \n",
    "        'coupon':[\n",
    "            {'company':'요기요', 'coupon': '5% 할인'},\n",
    "            {'company':'배달의 민족', 'coupon': '5% 할인'},\n",
    "            {'company':'쿠팡이츠', 'coupon': '5% 할인'},]},\n",
    "        {'name':'치킨 1', \n",
    "        'coupon':[\n",
    "            {'company':'요기요', 'coupon': '5% 할인'},\n",
    "            {'company':'배달의 민족', 'coupon': '5% 할인'},\n",
    "            {'company':'쿠팡이츠', 'coupon': '5% 할인'},]},\n",
    "        {'name':'치킨 2', \n",
    "        'coupon':[\n",
    "            {'company':'요기요', 'coupon': '5% 할인'},\n",
    "            {'company':'배달의 민족', 'coupon': '5% 할인'},\n",
    "            {'company':'쿠팡이츠', 'coupon': '5% 할인'},]}]\n",
    "    }"
   ]
  }
 ],
 "metadata": {
  "kernelspec": {
   "display_name": "django_39",
   "language": "python",
   "name": "django_39"
  },
  "language_info": {
   "codemirror_mode": {
    "name": "ipython",
    "version": 3
   },
   "file_extension": ".py",
   "mimetype": "text/x-python",
   "name": "python",
   "nbconvert_exporter": "python",
   "pygments_lexer": "ipython3",
   "version": "3.11.3"
  }
 },
 "nbformat": 4,
 "nbformat_minor": 2
}
