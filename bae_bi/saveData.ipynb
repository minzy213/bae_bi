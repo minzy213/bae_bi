{
 "cells": [
  {
   "cell_type": "code",
   "execution_count": 1,
   "metadata": {},
   "outputs": [],
   "source": [
    "import os, sys\n",
    "# PWD = os.getenv('PWD')\n",
    "PWD = os.path.abspath('.')\n",
    "\n",
    "PROJ_MISSING_MSG = \"\"\"Set an enviroment variable:\\n\n",
    "`DJANGO_PROJECT=your_project_name`\\n\n",
    "or call:\\n\n",
    "`init_django(your_project_name)`\n",
    "\"\"\"\n",
    "\n",
    "def init_django(project_name=None):\n",
    "    os.chdir(PWD)\n",
    "    project_name = project_name or os.environ.get('DJANGO_PROJECT') or None\n",
    "    if project_name == None:\n",
    "        raise Exception(PROJ_MISSING_MSG)\n",
    "    sys.path.insert(0, os.getenv('PWD'))\n",
    "    os.environ.setdefault('DJANGO_SETTINGS_MODULE', f'{project_name}.settings')\n",
    "    os.environ[\"DJANGO_ALLOW_ASYNC_UNSAFE\"] = \"true\"\n",
    "    import django\n",
    "    django.setup()"
   ]
  },
  {
   "cell_type": "code",
   "execution_count": 2,
   "metadata": {},
   "outputs": [],
   "source": [
    "init_django('bae_bi') #project name"
   ]
  },
  {
   "cell_type": "code",
   "execution_count": 7,
   "metadata": {},
   "outputs": [],
   "source": [
    "from board.models import Category, Store, Delivery_info, Menu, Promotion, User, Review\n",
    "import json"
   ]
  },
  {
   "cell_type": "code",
   "execution_count": 6,
   "metadata": {},
   "outputs": [
    {
     "data": {
      "text/plain": [
       "[<Category: Category object (None)>,\n",
       " <Category: Category object (None)>,\n",
       " <Category: Category object (None)>,\n",
       " <Category: Category object (None)>,\n",
       " <Category: Category object (None)>,\n",
       " <Category: Category object (None)>]"
      ]
     },
     "execution_count": 6,
     "metadata": {},
     "output_type": "execute_result"
    }
   ],
   "source": [
    "# Category 저장, img path 추가 필요\n",
    "\n",
    "categories = []\n",
    "categories.append(Category(name=\"치킨\", url = \"chicken\"))\n",
    "categories.append(Category(name=\"중국집\", url = \"chinese\"))\n",
    "categories.append(Category(name=\"일식\", url = \"japanese\"))\n",
    "categories.append(Category(name=\"족발\", url = \"jokbal\"))\n",
    "categories.append(Category(name=\"한식\", url = \"korean\"))\n",
    "categories.append(Category(name=\"피자\", url = \"pizza\"))\n",
    "Category.objects.bulk_create(categories)"
   ]
  },
  {
   "cell_type": "code",
   "execution_count": 11,
   "metadata": {},
   "outputs": [
    {
     "data": {
      "text/plain": [
       "dict_keys(['굽네치킨&피자-동판교점', '맘스터치-판교밸리고등점', '굽네치킨&피자-이매점', '롯데리아-판교DT점', '굽네치킨&피자-성남동점', '헤라s키친', '맘스터치-서판교점', '비트김밥&닭강정-서현점', '닭터박강정떡볶이-분당서현점', '포포', '청년다방-판교테크노밸리점', '노모어피자-야탑점', '조나단돈까스'])"
      ]
     },
     "execution_count": 11,
     "metadata": {},
     "output_type": "execute_result"
    }
   ],
   "source": [
    "stores = []\n",
    "menus = []\n",
    "promotions = []\n",
    "users = []\n",
    "reviews = []\n",
    "delivery_infos = []\n",
    "\n",
    "with open(r'../data/chicken_infos.json', 'r') as f:\n",
    "    info = json.load(f)\n",
    "\n",
    "ck_id = Category.objects.filter(name=\"치킨\")[0].id\n",
    "s_id = 0\n",
    "for name in info.keys():\n",
    "    # store 추가\n",
    "    store = {'name':'', 'address': '', 'thumbnail_path':'', 'category_id':'', 'avg_rate':0}\n",
    "    store['name'] = name\n",
    "    store['address'] = ''\n",
    "    store['thumbnail_path'] = info[name]['logo']\n",
    "    store['category_id'] = ck_id\n",
    "    store['avg_rate'] = 0\n",
    "    \n",
    "    stores.append(store)\n",
    "    \n",
    "    # menu 추가\n",
    "    store = {'name':'', 'address': '', 'thumbnail_path':'', 'category_id':'', 'avg_rate':0}"
   ]
  },
  {
   "cell_type": "code",
   "execution_count": 18,
   "metadata": {},
   "outputs": [
    {
     "data": {
      "text/plain": [
       "6"
      ]
     },
     "execution_count": 18,
     "metadata": {},
     "output_type": "execute_result"
    }
   ],
   "source": [
    "Category.objects.order_by('-id')[0].id"
   ]
  },
  {
   "cell_type": "code",
   "execution_count": 20,
   "metadata": {},
   "outputs": [
    {
     "data": {
      "text/plain": [
       "<QuerySet []>"
      ]
     },
     "execution_count": 20,
     "metadata": {},
     "output_type": "execute_result"
    }
   ],
   "source": [
    "Store.objects.order_by('-id')"
   ]
  }
 ],
 "metadata": {
  "kernelspec": {
   "display_name": "mzp",
   "language": "python",
   "name": "mzpark"
  },
  "language_info": {
   "codemirror_mode": {
    "name": "ipython",
    "version": 3
   },
   "file_extension": ".py",
   "mimetype": "text/x-python",
   "name": "python",
   "nbconvert_exporter": "python",
   "pygments_lexer": "ipython3",
   "version": "3.10.12"
  }
 },
 "nbformat": 4,
 "nbformat_minor": 2
}
